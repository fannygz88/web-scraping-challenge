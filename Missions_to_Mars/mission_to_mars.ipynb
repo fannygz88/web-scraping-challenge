{
 "cells": [
  {
   "cell_type": "code",
   "execution_count": 1,
   "metadata": {},
   "outputs": [],
   "source": [
    "#------ Dependencies \n",
    "\n",
    "from bs4 import BeautifulSoup as bs\n",
    "import requests\n",
    "from splinter import Browser\n",
    "import time\n",
    "import pandas as pd"
   ]
  },
  {
   "cell_type": "code",
   "execution_count": 2,
   "metadata": {},
   "outputs": [],
   "source": [
    "#------ Initialize the browser\n",
    "\n",
    "def init_browser():   \n",
    "    executable_path = {\"executable_path\": \"chromedriver.exe\"}\n",
    "    return Browser(\"chrome\", **executable_path, headless=True)"
   ]
  },
  {
   "cell_type": "markdown",
   "metadata": {},
   "source": [
    "## NASA Mars site"
   ]
  },
  {
   "cell_type": "code",
   "execution_count": 3,
   "metadata": {},
   "outputs": [],
   "source": [
    "#------ Scrapping the NASA \n",
    "\n",
    "def nasamars():\n",
    "    \n",
    "    browser = init_browser()\n",
    "\n",
    "    # Visit NASA Mars site\n",
    "    url1 = \"https://mars.nasa.gov/news/?page=0&per_page=40&order=publish_date+desc%2Ccreated_at+desc&search=&category=19%2C165%2C184%2C204&blank_scope=Latest\"\n",
    "    browser.visit(url1)\n",
    "\n",
    "    time.sleep(1)\n",
    "\n",
    "    # Scrape page into Soup\n",
    "    html = browser.html\n",
    "    soup = bs(html, \"html.parser\")\n",
    "\n",
    "    # All news\n",
    "\n",
    "    all_news = soup.find('div',class_='grid_layout')\n",
    "\n",
    "    # title and teaser content of the news\n",
    "\n",
    "    news_title = all_news.find('div', class_='content_title').text.lstrip()\n",
    "    news_p = all_news.find('div',class_='article_teaser_body').text.lstrip()\n",
    "\n",
    "    # Quite the browser after scraping\n",
    "    browser.quit()\n",
    "    return news_title, news_p\n",
    "\n",
    "\n"
   ]
  },
  {
   "cell_type": "markdown",
   "metadata": {},
   "source": [
    "## Space Images"
   ]
  },
  {
   "cell_type": "code",
   "execution_count": 4,
   "metadata": {},
   "outputs": [],
   "source": [
    "\n",
    "def spaceimages():\n",
    "    \n",
    "    browser = init_browser()\n",
    "\n",
    "    # Visit Space images -> Mars\n",
    "    url2 = \"https://www.jpl.nasa.gov/spaceimages/?search=&category=Mars\"\n",
    "    browser.visit(url2)\n",
    "    space_page='https://www.jpl.nasa.gov'\n",
    "    time.sleep(1)\n",
    "\n",
    "    # Scrape page into Soup\n",
    "    html = browser.html\n",
    "    soup = bs(html, \"html.parser\")\n",
    "\n",
    "    # All news\n",
    "\n",
    "    img_div = soup.find('div',class_='img')\n",
    "    img = img_div.find('img', class_='thumb')[\"src\"]\n",
    "    url_img = space_page+img\n",
    "    url_img\n",
    "    return url_img\n",
    "    # Quite the browser after scraping\n",
    "    browser.quit()\n"
   ]
  },
  {
   "cell_type": "markdown",
   "metadata": {},
   "source": [
    "## Mars Weather"
   ]
  },
  {
   "cell_type": "code",
   "execution_count": 5,
   "metadata": {},
   "outputs": [],
   "source": [
    "def marsweather():\n",
    "    \n",
    "    browser = init_browser()\n",
    "\n",
    "    # Visit Mars Weather \n",
    "    url3 = \"https://twitter.com/marswxreport?lang=en\"\n",
    "    browser.visit(url3)\n",
    "\n",
    "    time.sleep(1)\n",
    "\n",
    "    # Scrape page into Soup\n",
    "    html = browser.html\n",
    "    soup = bs(html, \"html.parser\")\n",
    "\n",
    "    # All news\n",
    "    mars_twitter = soup.find('div',class_='css-901oao r-hkyrab r-1qd0xha r-a023e6 r-16dba41 r-ad9z0x r-bcqeeo r-bnwqim r-qvutc0')\n",
    "    mars_weather = mars_twitter.find('span',class_='css-901oao css-16my406 r-1qd0xha r-ad9z0x r-bcqeeo r-qvutc0').text\n",
    "    return mars_weather\n",
    "\n",
    "    # Quite the browser after scraping\n",
    "    browser.quit()\n"
   ]
  },
  {
   "cell_type": "markdown",
   "metadata": {},
   "source": [
    "## Mars Facts"
   ]
  },
  {
   "cell_type": "code",
   "execution_count": 6,
   "metadata": {},
   "outputs": [],
   "source": [
    "def marsfacts():\n",
    "    url4 = 'https://space-facts.com/mars/'\n",
    "    tables = pd.read_html(url4)\n",
    "\n",
    "    mars_facts=tables[0]\n",
    "    #print(mars_facts)\n",
    "    return mars_facts\n"
   ]
  },
  {
   "cell_type": "code",
   "execution_count": 7,
   "metadata": {},
   "outputs": [],
   "source": [
    "mars_facts = pd.DataFrame(data =marsfacts())\n"
   ]
  },
  {
   "cell_type": "code",
   "execution_count": 8,
   "metadata": {},
   "outputs": [],
   "source": [
    "mars_facts.rename(columns={\n",
    "    0:'Names',\n",
    "    1:'Values'\n",
    "},inplace=True)\n",
    "\n",
    "mars_facts.set_index('Names',inplace=True)\n",
    "mars_facts_table= mars_facts.to_html()\n"
   ]
  },
  {
   "cell_type": "markdown",
   "metadata": {},
   "source": [
    "## Mars Hemispheres"
   ]
  },
  {
   "cell_type": "code",
   "execution_count": 9,
   "metadata": {},
   "outputs": [],
   "source": [
    "def marshemispheres():\n",
    "    browser = init_browser()\n",
    "\n",
    "    # Visit Mars Hmispheres page \n",
    "    url5 = \"https://astrogeology.usgs.gov/search/results?q=hemisphere+enhanced&k1=target&v1=Mars\"\n",
    "    browser.visit(url5)\n",
    "\n",
    "    time.sleep(1)\n",
    "\n",
    "    # Scrape page into Soup\n",
    "    html = browser.html\n",
    "    soup = bs(html, \"html.parser\")\n",
    "    full_img='https://astropedia.astrogeology.usgs.gov/download/'\n",
    "    extension='.tif/full.jpg'\n",
    "\n",
    "    # All items\n",
    "    hemispheres_div = soup.find_all('div',class_='item')\n",
    "\n",
    "    title=[]\n",
    "    img_url=[]\n",
    "    for div in hemispheres_div:\n",
    "        des = div.find('div',class_='description')\n",
    "        a = des.find('a', class_='itemLink product-item')\n",
    "        link =a[\"href\"]\n",
    "        head=a.find('h3').text\n",
    "        img_link = full_img+link.strip('/search/map')+extension\n",
    "        title.append(head)\n",
    "        img_url.append(img_link)\n",
    "\n",
    "    hemisphere_image_urls =  [{'title':title,'url_img': img_url} for (title,img_url) in zip(title,img_url)]\n",
    "    return hemisphere_image_urls\n",
    "\n",
    "    # Quite the browser after scraping\n",
    "    browser.quit()\n"
   ]
  },
  {
   "cell_type": "code",
   "execution_count": 10,
   "metadata": {},
   "outputs": [],
   "source": [
    "def scrape():\n",
    "    nasa_mars = nasamars()\n",
    "    news_title = nasa_mars[0]\n",
    "    news_p = nasa_mars[1]\n",
    "    \n",
    "    url_img = spaceimages()    \n",
    "    \n",
    "    mars_weather = marsweather()    \n",
    "    \n",
    "    mars_facts = marsfacts()   \n",
    "    \n",
    "    hemisphere_image_urls = marshemispheres()\n",
    "    \n",
    "    scrape ={\n",
    "        'news_title':news_title,\n",
    "        'news_teaser':news_p,\n",
    "        'url_img':url_img,\n",
    "        'mars_weather':mars_weather,\n",
    "        'mars_facts': mars_facts_table,\n",
    "        'hemisphere_image_urls':hemisphere_image_urls\n",
    "    }\n",
    "    return scrape\n",
    "dict_scrape = scrape()"
   ]
  },
  {
   "cell_type": "code",
   "execution_count": 11,
   "metadata": {},
   "outputs": [
    {
     "data": {
      "text/plain": [
       "{'news_title': \"NASA Wins 4 Webbys, 4 People's Voice Awards\",\n",
       " 'news_teaser': 'Winners include the JPL-managed \"Send Your Name to Mars\" campaign, NASA\\'s Global Climate Change website and Solar System Interactive.',\n",
       " 'url_img': 'https://www.jpl.nasa.gov/spaceimages/images/wallpaper/PIA23910-640x350.jpg',\n",
       " 'mars_weather': 'InSight sol 525 (2020-05-18) low -93.6ºC (-136.5ºF) high -0.4ºC (31.3ºF)\\nwinds from the WNW at 4.8 m/s (10.8 mph) gusting to 18.5 m/s (41.4 mph)\\npressure at 7.10 hPa',\n",
       " 'mars_facts': '<table border=\"1\" class=\"dataframe\">\\n  <thead>\\n    <tr style=\"text-align: right;\">\\n      <th></th>\\n      <th>Values</th>\\n    </tr>\\n    <tr>\\n      <th>Names</th>\\n      <th></th>\\n    </tr>\\n  </thead>\\n  <tbody>\\n    <tr>\\n      <th>Equatorial Diameter:</th>\\n      <td>6,792 km</td>\\n    </tr>\\n    <tr>\\n      <th>Polar Diameter:</th>\\n      <td>6,752 km</td>\\n    </tr>\\n    <tr>\\n      <th>Mass:</th>\\n      <td>6.39 × 10^23 kg (0.11 Earths)</td>\\n    </tr>\\n    <tr>\\n      <th>Moons:</th>\\n      <td>2 (Phobos &amp; Deimos)</td>\\n    </tr>\\n    <tr>\\n      <th>Orbit Distance:</th>\\n      <td>227,943,824 km (1.38 AU)</td>\\n    </tr>\\n    <tr>\\n      <th>Orbit Period:</th>\\n      <td>687 days (1.9 years)</td>\\n    </tr>\\n    <tr>\\n      <th>Surface Temperature:</th>\\n      <td>-87 to -5 °C</td>\\n    </tr>\\n    <tr>\\n      <th>First Record:</th>\\n      <td>2nd millennium BC</td>\\n    </tr>\\n    <tr>\\n      <th>Recorded By:</th>\\n      <td>Egyptian astronomers</td>\\n    </tr>\\n  </tbody>\\n</table>',\n",
       " 'hemisphere_image_urls': [{'title': 'Cerberus Hemisphere Enhanced',\n",
       "   'url_img': 'https://astropedia.astrogeology.usgs.gov/download/Mars/Viking/cerberus_enhanced.tif/full.jpg'},\n",
       "  {'title': 'Schiaparelli Hemisphere Enhanced',\n",
       "   'url_img': 'https://astropedia.astrogeology.usgs.gov/download/Mars/Viking/schiaparelli_enhanced.tif/full.jpg'},\n",
       "  {'title': 'Syrtis Major Hemisphere Enhanced',\n",
       "   'url_img': 'https://astropedia.astrogeology.usgs.gov/download/Mars/Viking/syrtis_major_enhanced.tif/full.jpg'},\n",
       "  {'title': 'Valles Marineris Hemisphere Enhanced',\n",
       "   'url_img': 'https://astropedia.astrogeology.usgs.gov/download/Mars/Viking/valles_marineris_enhanced.tif/full.jpg'}]}"
      ]
     },
     "execution_count": 11,
     "metadata": {},
     "output_type": "execute_result"
    }
   ],
   "source": [
    "dict_scrape"
   ]
  }
 ],
 "metadata": {
  "kernelspec": {
   "display_name": "Python 3",
   "language": "python",
   "name": "python3"
  },
  "language_info": {
   "codemirror_mode": {
    "name": "ipython",
    "version": 3
   },
   "file_extension": ".py",
   "mimetype": "text/x-python",
   "name": "python",
   "nbconvert_exporter": "python",
   "pygments_lexer": "ipython3",
   "version": "3.7.4"
  }
 },
 "nbformat": 4,
 "nbformat_minor": 2
}
